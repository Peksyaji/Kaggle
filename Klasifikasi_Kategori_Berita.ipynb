{
  "nbformat": 4,
  "nbformat_minor": 0,
  "metadata": {
    "colab": {
      "provenance": [],
      "gpuType": "T4",
      "authorship_tag": "ABX9TyMufvIDwBMmA+sCLmxLw+b1",
      "include_colab_link": true
    },
    "kernelspec": {
      "name": "python3",
      "display_name": "Python 3"
    },
    "language_info": {
      "name": "python"
    }
  },
  "cells": [
    {
      "cell_type": "markdown",
      "metadata": {
        "id": "view-in-github",
        "colab_type": "text"
      },
      "source": [
        "<a href=\"https://colab.research.google.com/github/Peksyaji/Kaggle/blob/main/Klasifikasi_Kategori_Berita.ipynb\" target=\"_parent\"><img src=\"https://colab.research.google.com/assets/colab-badge.svg\" alt=\"Open In Colab\"/></a>"
      ]
    },
    {
      "cell_type": "code",
      "execution_count": 1,
      "metadata": {
        "id": "dhjDhd7V_c1I"
      },
      "outputs": [],
      "source": [
        "import pandas as pd\n",
        "import numpy as np\n",
        "import seaborn as sns\n",
        "import matplotlib.pyplot as plt\n",
        "from time import time"
      ]
    },
    {
      "cell_type": "code",
      "source": [
        "path = 'https://raw.githubusercontent.com/iwanlaudin0101/teks-klasifikasi-menggunakan-model-lstm/master/Dataset/indosum%20datasets.txt'\n",
        "df = pd.read_csv(path, delimiter='\\t', header=None)\n",
        "df.columns = ['kategori','sumber','berita']\n",
        "df.head()"
      ],
      "metadata": {
        "colab": {
          "base_uri": "https://localhost:8080/",
          "height": 206
        },
        "id": "JOaZzzKR_6dk",
        "outputId": "eaa3e280-cd65-413b-ab93-eab322c7a9c2"
      },
      "execution_count": 2,
      "outputs": [
        {
          "output_type": "execute_result",
          "data": {
            "text/plain": [
              "    kategori          sumber  \\\n",
              "0  teknologi        kumparan   \n",
              "1  teknologi  dailysocial.id   \n",
              "2  teknologi  dailysocial.id   \n",
              "3  teknologi        kumparan   \n",
              "4  teknologi  dailysocial.id   \n",
              "\n",
              "                                              berita  \n",
              "0  Uber pada hari Jumat mengatakan akan menguak d...  \n",
              "1  Menyusul jejak NES Classic Edition , SNES Clas...  \n",
              "2  MDI Ventures , perusahaan modal ventura yang d...  \n",
              "3  Mazda masih menutup rapat informasi soal sport...  \n",
              "4  Sampai di akhir tahun 2017 ini , frasa “ print...  "
            ],
            "text/html": [
              "\n",
              "  <div id=\"df-addaf3a9-abeb-4579-90bc-412806382f1f\">\n",
              "    <div class=\"colab-df-container\">\n",
              "      <div>\n",
              "<style scoped>\n",
              "    .dataframe tbody tr th:only-of-type {\n",
              "        vertical-align: middle;\n",
              "    }\n",
              "\n",
              "    .dataframe tbody tr th {\n",
              "        vertical-align: top;\n",
              "    }\n",
              "\n",
              "    .dataframe thead th {\n",
              "        text-align: right;\n",
              "    }\n",
              "</style>\n",
              "<table border=\"1\" class=\"dataframe\">\n",
              "  <thead>\n",
              "    <tr style=\"text-align: right;\">\n",
              "      <th></th>\n",
              "      <th>kategori</th>\n",
              "      <th>sumber</th>\n",
              "      <th>berita</th>\n",
              "    </tr>\n",
              "  </thead>\n",
              "  <tbody>\n",
              "    <tr>\n",
              "      <th>0</th>\n",
              "      <td>teknologi</td>\n",
              "      <td>kumparan</td>\n",
              "      <td>Uber pada hari Jumat mengatakan akan menguak d...</td>\n",
              "    </tr>\n",
              "    <tr>\n",
              "      <th>1</th>\n",
              "      <td>teknologi</td>\n",
              "      <td>dailysocial.id</td>\n",
              "      <td>Menyusul jejak NES Classic Edition , SNES Clas...</td>\n",
              "    </tr>\n",
              "    <tr>\n",
              "      <th>2</th>\n",
              "      <td>teknologi</td>\n",
              "      <td>dailysocial.id</td>\n",
              "      <td>MDI Ventures , perusahaan modal ventura yang d...</td>\n",
              "    </tr>\n",
              "    <tr>\n",
              "      <th>3</th>\n",
              "      <td>teknologi</td>\n",
              "      <td>kumparan</td>\n",
              "      <td>Mazda masih menutup rapat informasi soal sport...</td>\n",
              "    </tr>\n",
              "    <tr>\n",
              "      <th>4</th>\n",
              "      <td>teknologi</td>\n",
              "      <td>dailysocial.id</td>\n",
              "      <td>Sampai di akhir tahun 2017 ini , frasa “ print...</td>\n",
              "    </tr>\n",
              "  </tbody>\n",
              "</table>\n",
              "</div>\n",
              "      <button class=\"colab-df-convert\" onclick=\"convertToInteractive('df-addaf3a9-abeb-4579-90bc-412806382f1f')\"\n",
              "              title=\"Convert this dataframe to an interactive table.\"\n",
              "              style=\"display:none;\">\n",
              "        \n",
              "  <svg xmlns=\"http://www.w3.org/2000/svg\" height=\"24px\"viewBox=\"0 0 24 24\"\n",
              "       width=\"24px\">\n",
              "    <path d=\"M0 0h24v24H0V0z\" fill=\"none\"/>\n",
              "    <path d=\"M18.56 5.44l.94 2.06.94-2.06 2.06-.94-2.06-.94-.94-2.06-.94 2.06-2.06.94zm-11 1L8.5 8.5l.94-2.06 2.06-.94-2.06-.94L8.5 2.5l-.94 2.06-2.06.94zm10 10l.94 2.06.94-2.06 2.06-.94-2.06-.94-.94-2.06-.94 2.06-2.06.94z\"/><path d=\"M17.41 7.96l-1.37-1.37c-.4-.4-.92-.59-1.43-.59-.52 0-1.04.2-1.43.59L10.3 9.45l-7.72 7.72c-.78.78-.78 2.05 0 2.83L4 21.41c.39.39.9.59 1.41.59.51 0 1.02-.2 1.41-.59l7.78-7.78 2.81-2.81c.8-.78.8-2.07 0-2.86zM5.41 20L4 18.59l7.72-7.72 1.47 1.35L5.41 20z\"/>\n",
              "  </svg>\n",
              "      </button>\n",
              "      \n",
              "  <style>\n",
              "    .colab-df-container {\n",
              "      display:flex;\n",
              "      flex-wrap:wrap;\n",
              "      gap: 12px;\n",
              "    }\n",
              "\n",
              "    .colab-df-convert {\n",
              "      background-color: #E8F0FE;\n",
              "      border: none;\n",
              "      border-radius: 50%;\n",
              "      cursor: pointer;\n",
              "      display: none;\n",
              "      fill: #1967D2;\n",
              "      height: 32px;\n",
              "      padding: 0 0 0 0;\n",
              "      width: 32px;\n",
              "    }\n",
              "\n",
              "    .colab-df-convert:hover {\n",
              "      background-color: #E2EBFA;\n",
              "      box-shadow: 0px 1px 2px rgba(60, 64, 67, 0.3), 0px 1px 3px 1px rgba(60, 64, 67, 0.15);\n",
              "      fill: #174EA6;\n",
              "    }\n",
              "\n",
              "    [theme=dark] .colab-df-convert {\n",
              "      background-color: #3B4455;\n",
              "      fill: #D2E3FC;\n",
              "    }\n",
              "\n",
              "    [theme=dark] .colab-df-convert:hover {\n",
              "      background-color: #434B5C;\n",
              "      box-shadow: 0px 1px 3px 1px rgba(0, 0, 0, 0.15);\n",
              "      filter: drop-shadow(0px 1px 2px rgba(0, 0, 0, 0.3));\n",
              "      fill: #FFFFFF;\n",
              "    }\n",
              "  </style>\n",
              "\n",
              "      <script>\n",
              "        const buttonEl =\n",
              "          document.querySelector('#df-addaf3a9-abeb-4579-90bc-412806382f1f button.colab-df-convert');\n",
              "        buttonEl.style.display =\n",
              "          google.colab.kernel.accessAllowed ? 'block' : 'none';\n",
              "\n",
              "        async function convertToInteractive(key) {\n",
              "          const element = document.querySelector('#df-addaf3a9-abeb-4579-90bc-412806382f1f');\n",
              "          const dataTable =\n",
              "            await google.colab.kernel.invokeFunction('convertToInteractive',\n",
              "                                                     [key], {});\n",
              "          if (!dataTable) return;\n",
              "\n",
              "          const docLinkHtml = 'Like what you see? Visit the ' +\n",
              "            '<a target=\"_blank\" href=https://colab.research.google.com/notebooks/data_table.ipynb>data table notebook</a>'\n",
              "            + ' to learn more about interactive tables.';\n",
              "          element.innerHTML = '';\n",
              "          dataTable['output_type'] = 'display_data';\n",
              "          await google.colab.output.renderOutput(dataTable, element);\n",
              "          const docLink = document.createElement('div');\n",
              "          docLink.innerHTML = docLinkHtml;\n",
              "          element.appendChild(docLink);\n",
              "        }\n",
              "      </script>\n",
              "    </div>\n",
              "  </div>\n",
              "  "
            ]
          },
          "metadata": {},
          "execution_count": 2
        }
      ]
    },
    {
      "cell_type": "code",
      "source": [
        "df.info()"
      ],
      "metadata": {
        "colab": {
          "base_uri": "https://localhost:8080/"
        },
        "id": "zjsLYT14AiIy",
        "outputId": "be3c47fc-edcc-47da-ca02-b4836a02a3e3"
      },
      "execution_count": 3,
      "outputs": [
        {
          "output_type": "stream",
          "name": "stdout",
          "text": [
            "<class 'pandas.core.frame.DataFrame'>\n",
            "RangeIndex: 10000 entries, 0 to 9999\n",
            "Data columns (total 3 columns):\n",
            " #   Column    Non-Null Count  Dtype \n",
            "---  ------    --------------  ----- \n",
            " 0   kategori  10000 non-null  object\n",
            " 1   sumber    10000 non-null  object\n",
            " 2   berita    10000 non-null  object\n",
            "dtypes: object(3)\n",
            "memory usage: 234.5+ KB\n"
          ]
        }
      ]
    },
    {
      "cell_type": "code",
      "source": [
        "df.drop('sumber', axis=1, inplace=True)"
      ],
      "metadata": {
        "id": "cefJQkk0BPly"
      },
      "execution_count": 4,
      "outputs": []
    },
    {
      "cell_type": "code",
      "source": [
        "sns.countplot(x=df['kategori'])\n",
        "plt.show()"
      ],
      "metadata": {
        "colab": {
          "base_uri": "https://localhost:8080/",
          "height": 449
        },
        "id": "KkPM0574Blks",
        "outputId": "c886a351-56eb-4aa6-a142-44c6baeb5172"
      },
      "execution_count": 5,
      "outputs": [
        {
          "output_type": "display_data",
          "data": {
            "text/plain": [
              "<Figure size 640x480 with 1 Axes>"
            ],
            "image/png": "[encoded data removed]"
          },
          "metadata": {}
        }
      ]
    },
    {
      "cell_type": "code",
      "source": [
        "df['kategori'].value_counts()"
      ],
      "metadata": {
        "colab": {
          "base_uri": "https://localhost:8080/"
        },
        "id": "DPI9EraLB3UA",
        "outputId": "338bba30-7ed9-40d8-b702-8d5af82ddd0f"
      },
      "execution_count": 6,
      "outputs": [
        {
          "output_type": "execute_result",
          "data": {
            "text/plain": [
              "teknologi      2000\n",
              "tajuk utama    2000\n",
              "showbiz        2000\n",
              "olahraga       2000\n",
              "hiburan        2000\n",
              "Name: kategori, dtype: int64"
            ]
          },
          "metadata": {},
          "execution_count": 6
        }
      ]
    },
    {
      "cell_type": "markdown",
      "source": [
        "# Praproses"
      ],
      "metadata": {
        "id": "9oIitx43CZu_"
      }
    },
    {
      "cell_type": "code",
      "source": [
        "!pip install PySastrawi"
      ],
      "metadata": {
        "colab": {
          "base_uri": "https://localhost:8080/"
        },
        "id": "sQOHZmDTFIlE",
        "outputId": "5c8033bc-42c8-4cb4-c58e-6b1999934174"
      },
      "execution_count": 7,
      "outputs": [
        {
          "output_type": "stream",
          "name": "stdout",
          "text": [
            "Looking in indexes: https://pypi.org/simple, https://us-python.pkg.dev/colab-wheels/public/simple/\n",
            "Collecting PySastrawi\n",
            "  Downloading PySastrawi-1.2.0-py2.py3-none-any.whl (210 kB)\n",
            "\u001b[2K     \u001b[90m━━━━━━━━━━━━━━━━━━━━━━━━━━━━━━━━━━━━━━━\u001b[0m \u001b[32m210.6/210.6 kB\u001b[0m \u001b[31m7.4 MB/s\u001b[0m eta \u001b[36m0:00:00\u001b[0m\n",
            "\u001b[?25hInstalling collected packages: PySastrawi\n",
            "Successfully installed PySastrawi-1.2.0\n"
          ]
        }
      ]
    },
    {
      "cell_type": "code",
      "source": [
        "import re, nltk\n",
        "import string\n",
        "from Sastrawi.Stemmer.StemmerFactory import StemmerFactory\n",
        "from Sastrawi.StopWordRemover.StopWordRemoverFactory import StopWordRemoverFactory\n",
        "from nltk.tokenize import word_tokenize\n",
        "from nltk.stem import WordNetLemmatizer\n",
        "nltk.download('punkt')\n",
        "nltk.download('wordnet')\n",
        "nltk.download('omw-1.4')\n",
        "factory = StopWordRemoverFactory()\n",
        "stemmer = StemmerFactory().create_stemmer()\n",
        "Sastrawi_StopWords_id = factory.get_stop_words()"
      ],
      "metadata": {
        "colab": {
          "base_uri": "https://localhost:8080/"
        },
        "id": "VXKxw8DOOh2m",
        "outputId": "eabb4f32-3da0-4d94-e4de-3b25b0ca026b"
      },
      "execution_count": 8,
      "outputs": [
        {
          "output_type": "stream",
          "name": "stderr",
          "text": [
            "[nltk_data] Downloading package punkt to /root/nltk_data...\n",
            "[nltk_data]   Unzipping tokenizers/punkt.zip.\n",
            "[nltk_data] Downloading package wordnet to /root/nltk_data...\n",
            "[nltk_data] Downloading package omw-1.4 to /root/nltk_data...\n"
          ]
        }
      ]
    },
    {
      "cell_type": "code",
      "source": [
        "def processed_text(text):\n",
        "    text = text.lower() \n",
        "    text = ' '.join(re.sub(\"(@[A-Za-z0-9]+)|([^0-9A-Za-z \\t]) |(\\w+:\\/\\/\\S+)\", \" \", text).split())\n",
        "    text = re.sub(r'\\@\\w+|\\#\\w+|\\d+', '', text)\n",
        "    punct = str.maketrans('', '', string.punctuation+string.digits)\n",
        "    text = text.translate(punct)\n",
        "    # tokenizing words and removing stop words from the news text\n",
        "    tokens = word_tokenize(text)  \n",
        "    filtered_words = [w for w in tokens if w not in Sastrawi_StopWords_id]\n",
        "    # lemmetizing words\n",
        "    lemmatizer = WordNetLemmatizer() \n",
        "    lemma_words = [lemmatizer.lemmatize(w) for w in filtered_words]\n",
        "    text = \" \".join(lemma_words)\n",
        "    return text"
      ],
      "metadata": {
        "id": "mz0hYqp2OZAo"
      },
      "execution_count": 9,
      "outputs": []
    },
    {
      "cell_type": "code",
      "source": [
        "df['clean_teks'] = df['berita'].apply(processed_text)"
      ],
      "metadata": {
        "id": "tgabAuQiPz78"
      },
      "execution_count": 10,
      "outputs": []
    },
    {
      "cell_type": "code",
      "source": [
        "df.head()"
      ],
      "metadata": {
        "colab": {
          "base_uri": "https://localhost:8080/",
          "height": 206
        },
        "id": "1SSOkVaHQVlr",
        "outputId": "0e8c5f63-7c64-4a38-b825-09391fe4abf3"
      },
      "execution_count": 11,
      "outputs": [
        {
          "output_type": "execute_result",
          "data": {
            "text/plain": [
              "    kategori                                             berita  \\\n",
              "0  teknologi  Uber pada hari Jumat mengatakan akan menguak d...   \n",
              "1  teknologi  Menyusul jejak NES Classic Edition , SNES Clas...   \n",
              "2  teknologi  MDI Ventures , perusahaan modal ventura yang d...   \n",
              "3  teknologi  Mazda masih menutup rapat informasi soal sport...   \n",
              "4  teknologi  Sampai di akhir tahun 2017 ini , frasa “ print...   \n",
              "\n",
              "                                          clean_teks  \n",
              "0  uber jumat menguak data perjalanan paris publi...  \n",
              "1  menyusul jejak ne classic edition snes classic...  \n",
              "2  mdi venture perusahaan modal ventura didukung ...  \n",
              "3  mazda menutup rapat informasi sportscar anyar ...  \n",
              "4  tahun frasa printer mencetak video terdengar m...  "
            ],
            "text/html": [
              "\n",
              "  <div id=\"df-15e7d11e-5777-4ef6-abe5-bd2773a4a440\">\n",
              "    <div class=\"colab-df-container\">\n",
              "      <div>\n",
              "<style scoped>\n",
              "    .dataframe tbody tr th:only-of-type {\n",
              "        vertical-align: middle;\n",
              "    }\n",
              "\n",
              "    .dataframe tbody tr th {\n",
              "        vertical-align: top;\n",
              "    }\n",
              "\n",
              "    .dataframe thead th {\n",
              "        text-align: right;\n",
              "    }\n",
              "</style>\n",
              "<table border=\"1\" class=\"dataframe\">\n",
              "  <thead>\n",
              "    <tr style=\"text-align: right;\">\n",
              "      <th></th>\n",
              "      <th>kategori</th>\n",
              "      <th>berita</th>\n",
              "      <th>clean_teks</th>\n",
              "    </tr>\n",
              "  </thead>\n",
              "  <tbody>\n",
              "    <tr>\n",
              "      <th>0</th>\n",
              "      <td>teknologi</td>\n",
              "      <td>Uber pada hari Jumat mengatakan akan menguak d...</td>\n",
              "      <td>uber jumat menguak data perjalanan paris publi...</td>\n",
              "    </tr>\n",
              "    <tr>\n",
              "      <th>1</th>\n",
              "      <td>teknologi</td>\n",
              "      <td>Menyusul jejak NES Classic Edition , SNES Clas...</td>\n",
              "      <td>menyusul jejak ne classic edition snes classic...</td>\n",
              "    </tr>\n",
              "    <tr>\n",
              "      <th>2</th>\n",
              "      <td>teknologi</td>\n",
              "      <td>MDI Ventures , perusahaan modal ventura yang d...</td>\n",
              "      <td>mdi venture perusahaan modal ventura didukung ...</td>\n",
              "    </tr>\n",
              "    <tr>\n",
              "      <th>3</th>\n",
              "      <td>teknologi</td>\n",
              "      <td>Mazda masih menutup rapat informasi soal sport...</td>\n",
              "      <td>mazda menutup rapat informasi sportscar anyar ...</td>\n",
              "    </tr>\n",
              "    <tr>\n",
              "      <th>4</th>\n",
              "      <td>teknologi</td>\n",
              "      <td>Sampai di akhir tahun 2017 ini , frasa “ print...</td>\n",
              "      <td>tahun frasa printer mencetak video terdengar m...</td>\n",
              "    </tr>\n",
              "  </tbody>\n",
              "</table>\n",
              "</div>\n",
              "      <button class=\"colab-df-convert\" onclick=\"convertToInteractive('df-15e7d11e-5777-4ef6-abe5-bd2773a4a440')\"\n",
              "              title=\"Convert this dataframe to an interactive table.\"\n",
              "              style=\"display:none;\">\n",
              "        \n",
              "  <svg xmlns=\"http://www.w3.org/2000/svg\" height=\"24px\"viewBox=\"0 0 24 24\"\n",
              "       width=\"24px\">\n",
              "    <path d=\"M0 0h24v24H0V0z\" fill=\"none\"/>\n",
              "    <path d=\"M18.56 5.44l.94 2.06.94-2.06 2.06-.94-2.06-.94-.94-2.06-.94 2.06-2.06.94zm-11 1L8.5 8.5l.94-2.06 2.06-.94-2.06-.94L8.5 2.5l-.94 2.06-2.06.94zm10 10l.94 2.06.94-2.06 2.06-.94-2.06-.94-.94-2.06-.94 2.06-2.06.94z\"/><path d=\"M17.41 7.96l-1.37-1.37c-.4-.4-.92-.59-1.43-.59-.52 0-1.04.2-1.43.59L10.3 9.45l-7.72 7.72c-.78.78-.78 2.05 0 2.83L4 21.41c.39.39.9.59 1.41.59.51 0 1.02-.2 1.41-.59l7.78-7.78 2.81-2.81c.8-.78.8-2.07 0-2.86zM5.41 20L4 18.59l7.72-7.72 1.47 1.35L5.41 20z\"/>\n",
              "  </svg>\n",
              "      </button>\n",
              "      \n",
              "  <style>\n",
              "    .colab-df-container {\n",
              "      display:flex;\n",
              "      flex-wrap:wrap;\n",
              "      gap: 12px;\n",
              "    }\n",
              "\n",
              "    .colab-df-convert {\n",
              "      background-color: #E8F0FE;\n",
              "      border: none;\n",
              "      border-radius: 50%;\n",
              "      cursor: pointer;\n",
              "      display: none;\n",
              "      fill: #1967D2;\n",
              "      height: 32px;\n",
              "      padding: 0 0 0 0;\n",
              "      width: 32px;\n",
              "    }\n",
              "\n",
              "    .colab-df-convert:hover {\n",
              "      background-color: #E2EBFA;\n",
              "      box-shadow: 0px 1px 2px rgba(60, 64, 67, 0.3), 0px 1px 3px 1px rgba(60, 64, 67, 0.15);\n",
              "      fill: #174EA6;\n",
              "    }\n",
              "\n",
              "    [theme=dark] .colab-df-convert {\n",
              "      background-color: #3B4455;\n",
              "      fill: #D2E3FC;\n",
              "    }\n",
              "\n",
              "    [theme=dark] .colab-df-convert:hover {\n",
              "      background-color: #434B5C;\n",
              "      box-shadow: 0px 1px 3px 1px rgba(0, 0, 0, 0.15);\n",
              "      filter: drop-shadow(0px 1px 2px rgba(0, 0, 0, 0.3));\n",
              "      fill: #FFFFFF;\n",
              "    }\n",
              "  </style>\n",
              "\n",
              "      <script>\n",
              "        const buttonEl =\n",
              "          document.querySelector('#df-15e7d11e-5777-4ef6-abe5-bd2773a4a440 button.colab-df-convert');\n",
              "        buttonEl.style.display =\n",
              "          google.colab.kernel.accessAllowed ? 'block' : 'none';\n",
              "\n",
              "        async function convertToInteractive(key) {\n",
              "          const element = document.querySelector('#df-15e7d11e-5777-4ef6-abe5-bd2773a4a440');\n",
              "          const dataTable =\n",
              "            await google.colab.kernel.invokeFunction('convertToInteractive',\n",
              "                                                     [key], {});\n",
              "          if (!dataTable) return;\n",
              "\n",
              "          const docLinkHtml = 'Like what you see? Visit the ' +\n",
              "            '<a target=\"_blank\" href=https://colab.research.google.com/notebooks/data_table.ipynb>data table notebook</a>'\n",
              "            + ' to learn more about interactive tables.';\n",
              "          element.innerHTML = '';\n",
              "          dataTable['output_type'] = 'display_data';\n",
              "          await google.colab.output.renderOutput(dataTable, element);\n",
              "          const docLink = document.createElement('div');\n",
              "          docLink.innerHTML = docLinkHtml;\n",
              "          element.appendChild(docLink);\n",
              "        }\n",
              "      </script>\n",
              "    </div>\n",
              "  </div>\n",
              "  "
            ]
          },
          "metadata": {},
          "execution_count": 11
        }
      ]
    },
    {
      "cell_type": "markdown",
      "source": [
        "# Feature Engineering"
      ],
      "metadata": {
        "id": "Ef3cFZCFR0OW"
      }
    },
    {
      "cell_type": "code",
      "source": [
        "x = df['clean_teks']\n",
        "y = df['kategori']"
      ],
      "metadata": {
        "id": "eaNtEHi5QYBT"
      },
      "execution_count": 12,
      "outputs": []
    },
    {
      "cell_type": "code",
      "source": [
        "from sklearn.feature_extraction.text import TfidfVectorizer\n",
        "\n",
        "tf_idf = TfidfVectorizer(ngram_range=(1,1))\n",
        "tf_idf.fit(x)"
      ],
      "metadata": {
        "colab": {
          "base_uri": "https://localhost:8080/",
          "height": 75
        },
        "id": "H86ADFW3RrGI",
        "outputId": "47ca4ffd-26a7-4bb6-ba08-20c120b1fc8a"
      },
      "execution_count": 13,
      "outputs": [
        {
          "output_type": "execute_result",
          "data": {
            "text/plain": [
              "TfidfVectorizer()"
            ],
            "text/html": [
              "<style>#sk-container-id-1 {color: black;background-color: white;}#sk-container-id-1 pre{padding: 0;}#sk-container-id-1 div.sk-toggleable {background-color: white;}#sk-container-id-1 label.sk-toggleable__label {cursor: pointer;display: block;width: 100%;margin-bottom: 0;padding: 0.3em;box-sizing: border-box;text-align: center;}#sk-container-id-1 label.sk-toggleable__label-arrow:before {content: \"▸\";float: left;margin-right: 0.25em;color: #696969;}#sk-container-id-1 label.sk-toggleable__label-arrow:hover:before {color: black;}#sk-container-id-1 div.sk-estimator:hover label.sk-toggleable__label-arrow:before {color: black;}#sk-container-id-1 div.sk-toggleable__content {max-height: 0;max-width: 0;overflow: hidden;text-align: left;background-color: #f0f8ff;}#sk-container-id-1 div.sk-toggleable__content pre {margin: 0.2em;color: black;border-radius: 0.25em;background-color: #f0f8ff;}#sk-container-id-1 input.sk-toggleable__control:checked~div.sk-toggleable__content {max-height: 200px;max-width: 100%;overflow: auto;}#sk-container-id-1 input.sk-toggleable__control:checked~label.sk-toggleable__label-arrow:before {content: \"▾\";}#sk-container-id-1 div.sk-estimator input.sk-toggleable__control:checked~label.sk-toggleable__label {background-color: #d4ebff;}#sk-container-id-1 div.sk-label input.sk-toggleable__control:checked~label.sk-toggleable__label {background-color: #d4ebff;}#sk-container-id-1 input.sk-hidden--visually {border: 0;clip: rect(1px 1px 1px 1px);clip: rect(1px, 1px, 1px, 1px);height: 1px;margin: -1px;overflow: hidden;padding: 0;position: absolute;width: 1px;}#sk-container-id-1 div.sk-estimator {font-family: monospace;background-color: #f0f8ff;border: 1px dotted black;border-radius: 0.25em;box-sizing: border-box;margin-bottom: 0.5em;}#sk-container-id-1 div.sk-estimator:hover {background-color: #d4ebff;}#sk-container-id-1 div.sk-parallel-item::after {content: \"\";width: 100%;border-bottom: 1px solid gray;flex-grow: 1;}#sk-container-id-1 div.sk-label:hover label.sk-toggleable__label {background-color: #d4ebff;}#sk-container-id-1 div.sk-serial::before {content: \"\";position: absolute;border-left: 1px solid gray;box-sizing: border-box;top: 0;bottom: 0;left: 50%;z-index: 0;}#sk-container-id-1 div.sk-serial {display: flex;flex-direction: column;align-items: center;background-color: white;padding-right: 0.2em;padding-left: 0.2em;position: relative;}#sk-container-id-1 div.sk-item {position: relative;z-index: 1;}#sk-container-id-1 div.sk-parallel {display: flex;align-items: stretch;justify-content: center;background-color: white;position: relative;}#sk-container-id-1 div.sk-item::before, #sk-container-id-1 div.sk-parallel-item::before {content: \"\";position: absolute;border-left: 1px solid gray;box-sizing: border-box;top: 0;bottom: 0;left: 50%;z-index: -1;}#sk-container-id-1 div.sk-parallel-item {display: flex;flex-direction: column;z-index: 1;position: relative;background-color: white;}#sk-container-id-1 div.sk-parallel-item:first-child::after {align-self: flex-end;width: 50%;}#sk-container-id-1 div.sk-parallel-item:last-child::after {align-self: flex-start;width: 50%;}#sk-container-id-1 div.sk-parallel-item:only-child::after {width: 0;}#sk-container-id-1 div.sk-dashed-wrapped {border: 1px dashed gray;margin: 0 0.4em 0.5em 0.4em;box-sizing: border-box;padding-bottom: 0.4em;background-color: white;}#sk-container-id-1 div.sk-label label {font-family: monospace;font-weight: bold;display: inline-block;line-height: 1.2em;}#sk-container-id-1 div.sk-label-container {text-align: center;}#sk-container-id-1 div.sk-container {/* jupyter's `normalize.less` sets `[hidden] { display: none; }` but bootstrap.min.css set `[hidden] { display: none !important; }` so we also need the `!important` here to be able to override the default hidden behavior on the sphinx rendered scikit-learn.org. See: https://github.com/scikit-learn/scikit-learn/issues/21755 */display: inline-block !important;position: relative;}#sk-container-id-1 div.sk-text-repr-fallback {display: none;}</style><div id=\"sk-container-id-1\" class=\"sk-top-container\"><div class=\"sk-text-repr-fallback\"><pre>TfidfVectorizer()</pre><b>In a Jupyter environment, please rerun this cell to show the HTML representation or trust the notebook. <br />On GitHub, the HTML representation is unable to render, please try loading this page with nbviewer.org.</b></div><div class=\"sk-container\" hidden><div class=\"sk-item\"><div class=\"sk-estimator sk-toggleable\"><input class=\"sk-toggleable__control sk-hidden--visually\" id=\"sk-estimator-id-1\" type=\"checkbox\" checked><label for=\"sk-estimator-id-1\" class=\"sk-toggleable__label sk-toggleable__label-arrow\">TfidfVectorizer</label><div class=\"sk-toggleable__content\"><pre>TfidfVectorizer()</pre></div></div></div></div></div>"
            ]
          },
          "metadata": {},
          "execution_count": 13
        }
      ]
    },
    {
      "cell_type": "code",
      "source": [
        "# Melihat Jumlah Fitur\n",
        "print(len(tf_idf.get_feature_names_out()))"
      ],
      "metadata": {
        "colab": {
          "base_uri": "https://localhost:8080/"
        },
        "id": "V3mUpwbUR-BM",
        "outputId": "a6d0dfff-a58d-4f47-bb4e-50a13e06f356"
      },
      "execution_count": 14,
      "outputs": [
        {
          "output_type": "stream",
          "name": "stdout",
          "text": [
            "74786\n"
          ]
        }
      ]
    },
    {
      "cell_type": "code",
      "source": [
        "# Melihat fitur-fitur apa saja yang ada di dalam corpus\n",
        "print(tf_idf.get_feature_names_out())"
      ],
      "metadata": {
        "colab": {
          "base_uri": "https://localhost:8080/"
        },
        "id": "4hMbHDPpSHMj",
        "outputId": "27a86176-d0fe-4eb6-bf54-f499a2693c45"
      },
      "execution_count": 15,
      "outputs": [
        {
          "output_type": "stream",
          "name": "stdout",
          "text": [
            "['aa' 'aaa' 'aaahhhh' ... 'μm' '위잉위' '한가']\n"
          ]
        }
      ]
    },
    {
      "cell_type": "code",
      "source": [
        "X_tf_idf = tf_idf.transform(x).toarray()\n",
        "X_tf_idf"
      ],
      "metadata": {
        "colab": {
          "base_uri": "https://localhost:8080/"
        },
        "id": "tEvEe4F4SLMj",
        "outputId": "b0cdf5c4-b9cb-4046-a866-7ee09e8fac2a"
      },
      "execution_count": 16,
      "outputs": [
        {
          "output_type": "execute_result",
          "data": {
            "text/plain": [
              "array([[0., 0., 0., ..., 0., 0., 0.],\n",
              "       [0., 0., 0., ..., 0., 0., 0.],\n",
              "       [0., 0., 0., ..., 0., 0., 0.],\n",
              "       ...,\n",
              "       [0., 0., 0., ..., 0., 0., 0.],\n",
              "       [0., 0., 0., ..., 0., 0., 0.],\n",
              "       [0., 0., 0., ..., 0., 0., 0.]])"
            ]
          },
          "metadata": {},
          "execution_count": 16
        }
      ]
    },
    {
      "cell_type": "markdown",
      "source": [
        "# Feature Selection"
      ],
      "metadata": {
        "id": "GCoTtE2gTTs5"
      }
    },
    {
      "cell_type": "code",
      "source": [
        "data_tf_idf = pd.DataFrame(X_tf_idf, columns=tf_idf.get_feature_names_out())\n",
        "X = np.array(data_tf_idf)\n",
        "y = np.array(y)"
      ],
      "metadata": {
        "id": "5G-FPNITSRjq"
      },
      "execution_count": 17,
      "outputs": []
    },
    {
      "cell_type": "code",
      "source": [
        "from sklearn.feature_selection import SelectKBest \n",
        "from sklearn.feature_selection import chi2 \n",
        "\n",
        "# Ten features with highest chi-squared statistics are selected \n",
        "chi2_features = SelectKBest(chi2, k=5000) \n",
        "X_kbest_features = chi2_features.fit_transform(X, y) \n",
        "  \n",
        "# Reduced features \n",
        "print('Original feature number:', X.shape[1]) \n",
        "print('Reduced feature number:', X_kbest_features.shape[1])"
      ],
      "metadata": {
        "colab": {
          "base_uri": "https://localhost:8080/"
        },
        "id": "psO2l-BSTR-u",
        "outputId": "c540e808-42b1-4649-c216-d023660b3db9"
      },
      "execution_count": 18,
      "outputs": [
        {
          "output_type": "stream",
          "name": "stdout",
          "text": [
            "Original feature number: 74786\n",
            "Reduced feature number: 5000\n"
          ]
        }
      ]
    },
    {
      "cell_type": "code",
      "source": [
        "from sklearn.model_selection import train_test_split"
      ],
      "metadata": {
        "id": "VtfxFzUfUL6P"
      },
      "execution_count": 22,
      "outputs": []
    },
    {
      "cell_type": "code",
      "source": [
        "X_train, X_test, y_train, y_test = train_test_split(X_kbest_features, y, test_size=0.2, random_state=42)"
      ],
      "metadata": {
        "id": "NS8wdT87UTmB"
      },
      "execution_count": 23,
      "outputs": []
    },
    {
      "cell_type": "code",
      "source": [
        "from sklearn.model_selection import cross_val_score, KFold, GridSearchCV"
      ],
      "metadata": {
        "id": "89nQQAYPVPQi"
      },
      "execution_count": 24,
      "outputs": []
    },
    {
      "cell_type": "code",
      "source": [
        "from sklearn.naive_bayes import MultinomialNB\n",
        "from sklearn import svm\n",
        "from sklearn.ensemble import RandomForestClassifier"
      ],
      "metadata": {
        "id": "CaBUflGrXzsE"
      },
      "execution_count": 25,
      "outputs": []
    },
    {
      "cell_type": "code",
      "source": [
        "models = {'Multinomial Naive Bayes': MultinomialNB(),\n",
        "          'Linier SVC': svm.LinearSVC(random_state=42),\n",
        "          'Random Forest': RandomForestClassifier(random_state=42)\n",
        "          }"
      ],
      "metadata": {
        "id": "BXayPO1rXptf"
      },
      "execution_count": 34,
      "outputs": []
    },
    {
      "cell_type": "code",
      "source": [
        "# Validasi silang model\n",
        "for name, model in models.items():\n",
        "    start = time()\n",
        "    model.fit(X_train, y_train)\n",
        "    train_time = time() - start\n",
        "    start = time()\n",
        "    y_pred = model.predict(X_test)\n",
        "    predict_time = time()-start\n",
        "    CV = KFold(n_splits = 5, shuffle = True, random_state = 42)\n",
        "    scores = cross_val_score(model, X_train, y_train, cv = CV)\n",
        "    print(model)\n",
        "    print(\"\\tWaktu latih: %0.3fs\" % train_time)\n",
        "    print(\"\\tWaktu prediksi: %0.3fs\" % predict_time)\n",
        "    print('\\t5-Fold Validation Scores:', scores)\n",
        "    print('\\tCross Validation Training Accuracy: %.3f (%.3f)' % (np.mean(scores), np.std(scores)))"
      ],
      "metadata": {
        "colab": {
          "base_uri": "https://localhost:8080/"
        },
        "id": "tTRJluGDUWvb",
        "outputId": "494a6da4-bc28-43a1-84df-0ed72fb0cd23"
      },
      "execution_count": 35,
      "outputs": [
        {
          "output_type": "stream",
          "name": "stdout",
          "text": [
            "MultinomialNB()\n",
            "\tWaktu latih: 0.327s\n",
            "\tWaktu prediksi: 0.059s\n",
            "\t5-Fold Validation Scores: [0.90625  0.92     0.92     0.906875 0.9125  ]\n",
            "\tCross Validation Training Accuracy: 0.913 (0.006)\n",
            "LinearSVC(random_state=42)\n",
            "\tWaktu latih: 0.612s\n",
            "\tWaktu prediksi: 0.046s\n",
            "\t5-Fold Validation Scores: [0.915625 0.9225   0.92125  0.916875 0.9175  ]\n",
            "\tCross Validation Training Accuracy: 0.919 (0.003)\n",
            "RandomForestClassifier(random_state=42)\n",
            "\tWaktu latih: 20.233s\n",
            "\tWaktu prediksi: 0.331s\n",
            "\t5-Fold Validation Scores: [0.896875 0.8925   0.916875 0.900625 0.905625]\n",
            "\tCross Validation Training Accuracy: 0.902 (0.008)\n"
          ]
        }
      ]
    },
    {
      "cell_type": "code",
      "source": [
        "from sklearn.metrics import confusion_matrix, classification_report\n",
        "from sklearn.metrics import confusion_matrix, accuracy_score, precision_score, recall_score, f1_score"
      ],
      "metadata": {
        "id": "PEhXmaqfWRDk"
      },
      "execution_count": 32,
      "outputs": []
    },
    {
      "cell_type": "code",
      "source": [
        "# Metrik evaluasi\n",
        "results = dict()\n",
        "for name, model in models.items():\n",
        "    model.fit(X_train, y_train)\n",
        "    predicted = model.predict(X_test)\n",
        "    print('\\nAlgorithm: ', name)\n",
        "    res_cm = confusion_matrix(y_test, predicted)\n",
        "    print('Confusion Matrix:\\n', res_cm)\n",
        "    res_acc = accuracy_score(y_test, predicted)\n",
        "    print('Accuracy: ', res_acc)\n",
        "    res_pres = precision_score(y_test, predicted, average='micro')\n",
        "    print('Precision: ', res_pres)\n",
        "    res_recall = recall_score(y_test, predicted, average='micro')\n",
        "    print('Recall Score: ', res_recall)\n",
        "    res_f1 = f1_score(y_test, predicted, average='micro')\n",
        "    print('F1 Score: ', res_f1)\n",
        "    \n",
        "    results[name]=res_acc"
      ],
      "metadata": {
        "colab": {
          "base_uri": "https://localhost:8080/"
        },
        "id": "RVUBYX3kVxaX",
        "outputId": "563a4e88-76b2-4cd3-a859-a74ec539271f"
      },
      "execution_count": 36,
      "outputs": [
        {
          "output_type": "stream",
          "name": "stdout",
          "text": [
            "\n",
            "Algorithm:  Multinomial Naive Bayes\n",
            "Confusion Matrix:\n",
            " [[290   3  44  36  14]\n",
            " [  2 404   1   6   2]\n",
            " [ 15   1 367   9   3]\n",
            " [ 18   1   5 364   5]\n",
            " [  7   0   4   9 390]]\n",
            "Accuracy:  0.9075\n",
            "Precision:  0.9075\n",
            "Recall Score:  0.9075\n",
            "F1 Score:  0.9075\n",
            "\n",
            "Algorithm:  Linier SVC\n",
            "Confusion Matrix:\n",
            " [[316   4  30  30   7]\n",
            " [  3 405   3   2   2]\n",
            " [ 17   1 372   3   2]\n",
            " [ 20   2   4 364   3]\n",
            " [ 10   0   2   5 393]]\n",
            "Accuracy:  0.925\n",
            "Precision:  0.925\n",
            "Recall Score:  0.925\n",
            "F1 Score:  0.925\n",
            "\n",
            "Algorithm:  Random Forest\n",
            "Confusion Matrix:\n",
            " [[299   6  43  35   4]\n",
            " [  3 407   1   4   0]\n",
            " [ 13   1 372   7   2]\n",
            " [ 12   2   4 373   2]\n",
            " [ 18   2   4  24 362]]\n",
            "Accuracy:  0.9065\n",
            "Precision:  0.9065\n",
            "Recall Score:  0.9065\n",
            "F1 Score:  0.9064999999999999\n"
          ]
        }
      ]
    }
  ]
}
